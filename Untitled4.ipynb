{
  "nbformat": 4,
  "nbformat_minor": 0,
  "metadata": {
    "colab": {
      "provenance": [],
      "mount_file_id": "1h6OMMD3skY9h1hePa6_h2McMU9MilM4m",
      "authorship_tag": "ABX9TyMs2qX6MLBG9E7UfLR/azQq",
      "include_colab_link": true
    },
    "kernelspec": {
      "name": "python3",
      "display_name": "Python 3"
    },
    "language_info": {
      "name": "python"
    }
  },
  "cells": [
    {
      "cell_type": "markdown",
      "metadata": {
        "id": "view-in-github",
        "colab_type": "text"
      },
      "source": [
        "<a href=\"https://colab.research.google.com/github/turtle164/AI-ML/blob/main/Untitled4.ipynb\" target=\"_parent\"><img src=\"https://colab.research.google.com/assets/colab-badge.svg\" alt=\"Open In Colab\"/></a>"
      ]
    },
    {
      "cell_type": "markdown",
      "source": [
        "# **TASK TO DO**\n",
        "\n",
        "\n",
        "*   \n",
        "*   \n",
        "\n"
      ],
      "metadata": {
        "id": "1h7rg7IiqqAb"
      }
    },
    {
      "cell_type": "code",
      "execution_count": null,
      "metadata": {
        "id": "EpFkSlfiqnPR"
      },
      "outputs": [],
      "source": [
        "#generate synthetic data\n",
        "import pandas as pd\n",
        "import numpy as np\n",
        "from datetime import datetime, timedelta"
      ]
    },
    {
      "cell_type": "code",
      "source": [
        "def generate_normal_traffic():\n",
        "  return{\n",
        "      'timestamp': datetime.now() - timedelta(seconds=np.random.randint(0, 86400)),\n",
        "      'source_ip': f'192.168. {np.random.randint(0, 255)}. {np.random.randint(0, 255)}',\n",
        "      'destination_ip': f'10.0. {np.random.randint(0, 255)}. {np.random.randint(0, 255)}',\n",
        "      'protocol': np.random.choice(['TCP', 'UDP', 'ICMP']),\n",
        "      'source_port': np.random.randint(1, 65535),\n",
        "      'bytes': np.random.randint(1500, 500),\n",
        "      'packets': np.random.randint(1, 100),\n",
        "      'duration': np.random.randint(1, 100),\n",
        "      'is_attack': 0\n",
        "      }\n"
      ],
      "metadata": {
        "id": "sgOO_pm0q-iS"
      },
      "execution_count": null,
      "outputs": []
    },
    {
      "cell_type": "code",
      "source": [
        "def generate_attack_traffic():\n",
        "    \"\"\"Generate attack network traffic data\"\"\"\n",
        "    attack_types = {\n",
        "        'ddos': {\n",
        "            'bytes': np.random.normal(15000, 1000),\n",
        "            'packets': np.random.randint(500, 1000),\n",
        "            'duration': np.random.exponential(5)\n",
        "        },\n",
        "        'port_scan': {\n",
        "            'bytes': np.random.normal(100, 20),\n",
        "            'packets': np.random.randint(1, 3),\n",
        "            'duration': np.random.exponential(0.1)\n",
        "        },\n",
        "        'brute_force': {\n",
        "            'bytes': np.random.normal(500, 100),\n",
        "            'packets': np.random.randint(10, 50),\n",
        "            'duration': np.random.exponential(1)\n",
        "        }\n",
        "    }\n",
        "\n",
        "    attack_type = np.random.choice(list(attack_types.keys()))\n",
        "    attack_params = attack_types[attack_type]\n",
        "\n",
        "    return {\n",
        "        'timestamp': datetime.now() - timedelta(seconds=np.random.randint(0, 86400)),\n",
        "        'source_ip': f\"45.{np.random.randint(1, 255)}.{np.random.randint(1, 255)}.{np.random.randint(1, 255)}\",\n",
        "        'dest_ip': f\"10.0.{np.random.randint(1, 255)}.{np.random.randint(1, 255)}\",\n",
        "        'protocol': np.random.choice(['TCP', 'UDP', 'ICMP'], p=[0.8, 0.1, 0.1]),\n",
        "        'port': np.random.randint(1, 65535),\n",
        "        'bytes': attack_params['bytes'],\n",
        "        'packets': attack_params['packets'],\n",
        "        'duration': attack_params['duration'],\n",
        "        'is_attack': 1,\n",
        "        'attack_type': attack_type\n",
        "    }"
      ],
      "metadata": {
        "id": "VVmbcupss0H4"
      },
      "execution_count": null,
      "outputs": []
    },
    {
      "cell_type": "code",
      "source": [
        "def generate_dataset(normal_samples=10000, attack_samples=1000):\n",
        "    normal_traffic = [generate_normal_traffic() for _ in range(normal_samples)]\n",
        "    attack_traffic = [generate_attack_traffic() for _ in range(attack_samples)]\n",
        "\n",
        "    all_traffic = normal_traffic + attack_traffic\n",
        "    df = pd.DataFrame(all_traffic)\n",
        "    return df"
      ],
      "metadata": {
        "id": "iKFmEz_9wwEm"
      },
      "execution_count": null,
      "outputs": []
    },
    {
      "cell_type": "code",
      "source": [
        "training_data = generate_dataset()\n",
        "training_data.to_csv('content/drive/MyDrive/Colab Notebook/network_traffic_training.csv', index=False)"
      ],
      "metadata": {
        "id": "irrKN-ON2maT"
      },
      "execution_count": null,
      "outputs": []
    },
    {
      "cell_type": "code",
      "source": [
        "# Generate smaller test dataset\n",
        "test_data = generate_dataset(normal_samples=1000, attack_samples=100)\n",
        "test_data.to_csv('content/drive/MyDrive/Colab Notebook/network_traffic_test.csv', index=False)"
      ],
      "metadata": {
        "id": "pS55zaBB2nYC"
      },
      "execution_count": null,
      "outputs": []
    },
    {
      "cell_type": "code",
      "source": [
        "from google.colab import drive\n",
        "# Removed the space in 'Colab Notebooks' to fix the ValueError\n",
        "drive.mount('/content/drive/MyDrive/Colab Notebooks/data_generation')"
      ],
      "metadata": {
        "colab": {
          "base_uri": "https://localhost:8080/",
          "height": 322
        },
        "id": "3aQwK1fH20aa",
        "outputId": "b42dd53d-3fa3-486c-9c75-e1a543a0cb0a"
      },
      "execution_count": 1,
      "outputs": [
        {
          "output_type": "error",
          "ename": "ValueError",
          "evalue": "Mountpoint must not contain a space.",
          "traceback": [
            "\u001b[0;31m---------------------------------------------------------------------------\u001b[0m",
            "\u001b[0;31mValueError\u001b[0m                                Traceback (most recent call last)",
            "\u001b[0;32m<ipython-input-1-d39ba682f33a>\u001b[0m in \u001b[0;36m<cell line: 0>\u001b[0;34m()\u001b[0m\n\u001b[1;32m      1\u001b[0m \u001b[0;32mfrom\u001b[0m \u001b[0mgoogle\u001b[0m\u001b[0;34m.\u001b[0m\u001b[0mcolab\u001b[0m \u001b[0;32mimport\u001b[0m \u001b[0mdrive\u001b[0m\u001b[0;34m\u001b[0m\u001b[0;34m\u001b[0m\u001b[0m\n\u001b[1;32m      2\u001b[0m \u001b[0;31m# Removed the space in 'Colab Notebooks' to fix the ValueError\u001b[0m\u001b[0;34m\u001b[0m\u001b[0;34m\u001b[0m\u001b[0m\n\u001b[0;32m----> 3\u001b[0;31m \u001b[0mdrive\u001b[0m\u001b[0;34m.\u001b[0m\u001b[0mmount\u001b[0m\u001b[0;34m(\u001b[0m\u001b[0;34m'/content/drive/MyDrive/Colab Notebooks/data_generation'\u001b[0m\u001b[0;34m)\u001b[0m\u001b[0;34m\u001b[0m\u001b[0;34m\u001b[0m\u001b[0m\n\u001b[0m",
            "\u001b[0;32m/usr/local/lib/python3.11/dist-packages/google/colab/drive.py\u001b[0m in \u001b[0;36mmount\u001b[0;34m(mountpoint, force_remount, timeout_ms, readonly)\u001b[0m\n\u001b[1;32m     98\u001b[0m \u001b[0;32mdef\u001b[0m \u001b[0mmount\u001b[0m\u001b[0;34m(\u001b[0m\u001b[0mmountpoint\u001b[0m\u001b[0;34m,\u001b[0m \u001b[0mforce_remount\u001b[0m\u001b[0;34m=\u001b[0m\u001b[0;32mFalse\u001b[0m\u001b[0;34m,\u001b[0m \u001b[0mtimeout_ms\u001b[0m\u001b[0;34m=\u001b[0m\u001b[0;36m120000\u001b[0m\u001b[0;34m,\u001b[0m \u001b[0mreadonly\u001b[0m\u001b[0;34m=\u001b[0m\u001b[0;32mFalse\u001b[0m\u001b[0;34m)\u001b[0m\u001b[0;34m:\u001b[0m\u001b[0;34m\u001b[0m\u001b[0;34m\u001b[0m\u001b[0m\n\u001b[1;32m     99\u001b[0m   \u001b[0;34m\"\"\"Mount your Google Drive at the specified mountpoint path.\"\"\"\u001b[0m\u001b[0;34m\u001b[0m\u001b[0;34m\u001b[0m\u001b[0m\n\u001b[0;32m--> 100\u001b[0;31m   return _mount(\n\u001b[0m\u001b[1;32m    101\u001b[0m       \u001b[0mmountpoint\u001b[0m\u001b[0;34m,\u001b[0m\u001b[0;34m\u001b[0m\u001b[0;34m\u001b[0m\u001b[0m\n\u001b[1;32m    102\u001b[0m       \u001b[0mforce_remount\u001b[0m\u001b[0;34m=\u001b[0m\u001b[0mforce_remount\u001b[0m\u001b[0;34m,\u001b[0m\u001b[0;34m\u001b[0m\u001b[0;34m\u001b[0m\u001b[0m\n",
            "\u001b[0;32m/usr/local/lib/python3.11/dist-packages/google/colab/drive.py\u001b[0m in \u001b[0;36m_mount\u001b[0;34m(mountpoint, force_remount, timeout_ms, ephemeral, readonly)\u001b[0m\n\u001b[1;32m    123\u001b[0m \u001b[0;34m\u001b[0m\u001b[0m\n\u001b[1;32m    124\u001b[0m   \u001b[0;32mif\u001b[0m \u001b[0;34m' '\u001b[0m \u001b[0;32min\u001b[0m \u001b[0mmountpoint\u001b[0m\u001b[0;34m:\u001b[0m\u001b[0;34m\u001b[0m\u001b[0;34m\u001b[0m\u001b[0m\n\u001b[0;32m--> 125\u001b[0;31m     \u001b[0;32mraise\u001b[0m \u001b[0mValueError\u001b[0m\u001b[0;34m(\u001b[0m\u001b[0;34m'Mountpoint must not contain a space.'\u001b[0m\u001b[0;34m)\u001b[0m\u001b[0;34m\u001b[0m\u001b[0;34m\u001b[0m\u001b[0m\n\u001b[0m\u001b[1;32m    126\u001b[0m \u001b[0;34m\u001b[0m\u001b[0m\n\u001b[1;32m    127\u001b[0m   \u001b[0;32mif\u001b[0m \u001b[0m_os\u001b[0m\u001b[0;34m.\u001b[0m\u001b[0menviron\u001b[0m\u001b[0;34m.\u001b[0m\u001b[0mget\u001b[0m\u001b[0;34m(\u001b[0m\u001b[0;34m'VERTEX_PRODUCT'\u001b[0m\u001b[0;34m)\u001b[0m \u001b[0;34m==\u001b[0m \u001b[0;34m'COLAB_ENTERPRISE'\u001b[0m\u001b[0;34m:\u001b[0m\u001b[0;34m\u001b[0m\u001b[0;34m\u001b[0m\u001b[0m\n",
            "\u001b[0;31mValueError\u001b[0m: Mountpoint must not contain a space."
          ]
        }
      ]
    }
  ]
}